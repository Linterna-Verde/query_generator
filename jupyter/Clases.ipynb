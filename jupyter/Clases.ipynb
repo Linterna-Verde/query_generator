{
 "cells": [
  {
   "cell_type": "code",
   "execution_count": 1,
   "metadata": {
    "ExecuteTime": {
     "end_time": "2021-07-22T21:12:56.121197Z",
     "start_time": "2021-07-22T21:12:54.759200Z"
    }
   },
   "outputs": [],
   "source": [
    "from google.oauth2 import service_account\n",
    "import gspread\n",
    "import pandas as pd\n",
    "import numpy as np"
   ]
  },
  {
   "cell_type": "code",
   "execution_count": 12,
   "metadata": {
    "ExecuteTime": {
     "end_time": "2021-07-22T21:30:15.199606Z",
     "start_time": "2021-07-22T21:30:15.153194Z"
    }
   },
   "outputs": [],
   "source": [
    "from pathlib import Path"
   ]
  },
  {
   "cell_type": "code",
   "execution_count": 14,
   "metadata": {
    "ExecuteTime": {
     "end_time": "2021-07-22T21:31:00.756834Z",
     "start_time": "2021-07-22T21:31:00.717802Z"
    }
   },
   "outputs": [],
   "source": [
    "BASE_DIR = Path.cwd()\n",
    "IMAGES_DIR = BASE_DIR / 'images'"
   ]
  },
  {
   "cell_type": "code",
   "execution_count": 16,
   "metadata": {
    "ExecuteTime": {
     "end_time": "2021-07-22T21:31:55.353823Z",
     "start_time": "2021-07-22T21:31:55.329453Z"
    }
   },
   "outputs": [
    {
     "data": {
      "text/plain": [
       "'/Users/PutosHackers/Documents/Linterna Verde/Apps/query/images'"
      ]
     },
     "execution_count": 16,
     "metadata": {},
     "output_type": "execute_result"
    }
   ],
   "source": [
    "str(IMAGES_DIR)"
   ]
  },
  {
   "cell_type": "code",
   "execution_count": 2,
   "metadata": {
    "ExecuteTime": {
     "end_time": "2021-07-22T21:12:56.677030Z",
     "start_time": "2021-07-22T21:12:56.667062Z"
    },
    "code_folding": []
   },
   "outputs": [],
   "source": [
    "SCOPES = ['https://www.googleapis.com/auth/spreadsheets',\n",
    "         'https://www.googleapis.com/auth/drive',\n",
    "         'https://www.googleapis.com/auth/drive.file']\n",
    "SERVICE_ACCOUNT_FILE = 'keys.json'\n",
    "\n",
    "class Client:\n",
    "    def __init__(self, sp, sap):\n",
    "        self.scopes = sp\n",
    "        self.service_account_file = sap\n",
    "        \n",
    "        #initialize the creds and client\n",
    "        creds = service_account.Credentials.from_service_account_file(self.service_account_file,scopes=self.scopes)\n",
    "        self.client = gspread.authorize(creds)"
   ]
  },
  {
   "cell_type": "code",
   "execution_count": 3,
   "metadata": {
    "ExecuteTime": {
     "end_time": "2021-07-22T21:12:57.433999Z",
     "start_time": "2021-07-22T21:12:57.419539Z"
    },
    "code_folding": []
   },
   "outputs": [],
   "source": [
    "class SpreadSheet(Client):\n",
    "    def __init__(self, sp, sap, spdst_name):\n",
    "        super().__init__(sp, sap)\n",
    "        self.spreadsheet = self.client.open_by_url(url)\n",
    "        \n",
    "    def dict_to_df(self, name='Diccionario'):\n",
    "        dict_worksheet = self.spreadsheet.worksheet(name)\n",
    "        df = pd.DataFrame(dict_worksheet.get_all_records())\n",
    "        return df\n",
    "    \n",
    "    def append_query_to_spreadsheet(query, query_name='Query'):    \n",
    "        try:\n",
    "            self.spreadsheet.add_worksheet(title=query_name, rows=\"100\", cols=\"20\")\n",
    "        except:\n",
    "            pass\n",
    "        \n",
    "        self.spreadsheet.worksheet(query_name).update('A1', query_name)\n",
    "        self.spreadsheet.worksheet(query_name).update('A4', query)"
   ]
  },
  {
   "cell_type": "code",
   "execution_count": 4,
   "metadata": {
    "ExecuteTime": {
     "end_time": "2021-07-22T21:12:58.236707Z",
     "start_time": "2021-07-22T21:12:58.232321Z"
    }
   },
   "outputs": [],
   "source": [
    "url = 'https://docs.google.com/spreadsheets/d/1iilHcaQqvJj6ShrnIbRFlKeqjaCnoNxoza11WGuYwps/edit#gid=0'"
   ]
  },
  {
   "cell_type": "code",
   "execution_count": 5,
   "metadata": {
    "ExecuteTime": {
     "end_time": "2021-07-22T21:12:59.828321Z",
     "start_time": "2021-07-22T21:12:58.921677Z"
    }
   },
   "outputs": [],
   "source": [
    "s = SpreadSheet(SCOPES, SERVICE_ACCOUNT_FILE, url)\n",
    "df = s.dict_to_df()"
   ]
  },
  {
   "cell_type": "code",
   "execution_count": 6,
   "metadata": {
    "ExecuteTime": {
     "end_time": "2021-07-22T21:13:00.630834Z",
     "start_time": "2021-07-22T21:13:00.613233Z"
    }
   },
   "outputs": [
    {
     "data": {
      "text/plain": [
       "array(['Paro', 'Actores', 'Reforma a la salud', 'Instituciones', 'NOT',\n",
       "       'Filtro por términos en tweets falsos',\n",
       "       'Filtro por palabras de desinformación'], dtype=object)"
      ]
     },
     "execution_count": 6,
     "metadata": {},
     "output_type": "execute_result"
    }
   ],
   "source": [
    "df.columns.values"
   ]
  },
  {
   "cell_type": "code",
   "execution_count": 7,
   "metadata": {
    "ExecuteTime": {
     "end_time": "2021-07-22T21:13:01.467732Z",
     "start_time": "2021-07-22T21:13:01.457736Z"
    }
   },
   "outputs": [],
   "source": [
    "otros = df.columns[1:4]"
   ]
  },
  {
   "cell_type": "code",
   "execution_count": 8,
   "metadata": {
    "ExecuteTime": {
     "end_time": "2021-07-22T21:13:02.440373Z",
     "start_time": "2021-07-22T21:13:02.412318Z"
    },
    "code_folding": [
     24,
     33,
     48,
     71,
     77,
     85
    ]
   },
   "outputs": [],
   "source": [
    "class Query:\n",
    "    not_col = False\n",
    "    \n",
    "    def __init__(self,df_dict):\n",
    "        self.dictionary = df_dict\n",
    "        self.preprocess_dictionary()\n",
    "    \n",
    "    #Actions in Dictionary\n",
    "    \n",
    "    # Check for a NOT column\n",
    "    def NOT_col_check(self):\n",
    "        self.not_col = 'NOT' in self.dictionary.columns\n",
    "        \n",
    "    #Repalce blank spaces with NaN\n",
    "    def replace_blank_with_nan(self):\n",
    "        self.dictionary.replace(\"\", np.nan, inplace=True) # replace empty string with np.nan        \n",
    "      \n",
    "    #Change position of the NOT column\n",
    "    def NOT_col_last(self):\n",
    "        NOT = self.dictionary['NOT']\n",
    "        self.dictionary.drop(columns=['NOT'], inplace=True)\n",
    "        self.dictionary['NOT'] = NOT\n",
    "    \n",
    "    #Preprocess dict\n",
    "    def preprocess_dictionary(self):\n",
    "        self.NOT_col_check()\n",
    "        self.replace_blank_with_nan()\n",
    "        if self.not_col:\n",
    "            self.NOT_col_last()\n",
    "    \n",
    "    #Actions in Dictionary Temp\n",
    "    \n",
    "    # Combine columns given in col_list\n",
    "    def combine_columns(self, col_list):\n",
    "            df_combined = self.dictionary\n",
    "            col_pivot= col_list[0]\n",
    "\n",
    "            for c in col_list[1:]:\n",
    "                for val  in df[c]:\n",
    "                    df_combined = df_combined.append({col_pivot:val}, ignore_index=True)\n",
    "\n",
    "                df_combined.drop(c,axis=1, inplace=True)\n",
    "\n",
    "            df_combined.rename(columns={col_pivot:'(' + ' OR '.join(col_list) + ')'},inplace=True)\n",
    "\n",
    "            self.dictionary = df_combined\n",
    "        \n",
    "    # Join values in a column with OR\n",
    "    def join_col_vals_OR(self):\n",
    "        df_temp = self.dictionary\n",
    "        query_list = [] #lista de palabras concatenadas por OR\n",
    "        num_cols = np.shape(df_temp)[1] #número de columnas en el documento\n",
    "\n",
    "        for i in range(num_cols):\n",
    "            col_val = df_temp.iloc[:,i].dropna().values #valores de la columna filtrando NaN\n",
    "\n",
    "            if len(col_val)==0:\n",
    "                print(\"Columna {} : {} --> VACÍA\".format(i,df_temp.columns[i]))\n",
    "                continue\n",
    "            for j in range(len(col_val)):\n",
    "                if col_val[j][0] == \"\\\"\":\n",
    "                    continue\n",
    "                else:\n",
    "                    col_val[j] = '('+ col_val[j] + ')'\n",
    "\n",
    "            query_list.append('(' + ' OR '.join(col_val) + ')') #une los valores con un OR y los agrega a la lista query_list\n",
    "\n",
    "        return query_list\n",
    "    \n",
    "    # Join column with AND in a query. \n",
    "    #In case NOT colum exist it goes last and is joined with NOT.\n",
    "    def get_query(self):\n",
    "        query_list = self.join_col_vals_OR()\n",
    "        \n",
    "        if self.not_col:\n",
    "            query = '(' + ' AND '.join(query_list[:-1]) + ' NOT ' + query_list[-1] + ')'\n",
    "\n",
    "        else:\n",
    "            query = '(' + ' AND '.join(query_list[:]) + ')'\n",
    "\n",
    "        query = query + ' AND metaData.source.socialOriginType:“twitter”' #Filter for twitter only\n",
    "\n",
    "        return query\n",
    "    \n",
    "    #Print the logic expression of the query\n",
    "    def get_logic_expression(self):\n",
    "        print(' AND '.join(self.dictionary.columns))"
   ]
  },
  {
   "cell_type": "code",
   "execution_count": 9,
   "metadata": {
    "ExecuteTime": {
     "end_time": "2021-07-22T21:13:03.701365Z",
     "start_time": "2021-07-22T21:13:03.689454Z"
    }
   },
   "outputs": [],
   "source": [
    "q = Query(df)"
   ]
  },
  {
   "cell_type": "code",
   "execution_count": 31,
   "metadata": {
    "ExecuteTime": {
     "end_time": "2021-07-22T19:57:11.934573Z",
     "start_time": "2021-07-22T19:57:11.697909Z"
    }
   },
   "outputs": [],
   "source": [
    "q.combine_columns(otros)"
   ]
  },
  {
   "cell_type": "code",
   "execution_count": 32,
   "metadata": {
    "ExecuteTime": {
     "end_time": "2021-07-22T19:57:16.646077Z",
     "start_time": "2021-07-22T19:57:16.618829Z"
    }
   },
   "outputs": [
    {
     "data": {
      "text/html": [
       "<div>\n",
       "<style scoped>\n",
       "    .dataframe tbody tr th:only-of-type {\n",
       "        vertical-align: middle;\n",
       "    }\n",
       "\n",
       "    .dataframe tbody tr th {\n",
       "        vertical-align: top;\n",
       "    }\n",
       "\n",
       "    .dataframe thead th {\n",
       "        text-align: right;\n",
       "    }\n",
       "</style>\n",
       "<table border=\"1\" class=\"dataframe\">\n",
       "  <thead>\n",
       "    <tr style=\"text-align: right;\">\n",
       "      <th></th>\n",
       "      <th>Filtro sobre el paro</th>\n",
       "      <th>(Filtro de actores OR Filtro de reforma a la salud OR Filtro de instituciones)</th>\n",
       "      <th>Filtro por términos en tweets falsos</th>\n",
       "      <th>Filtro por palabras de desinformación</th>\n",
       "      <th>NOT</th>\n",
       "    </tr>\n",
       "  </thead>\n",
       "  <tbody>\n",
       "    <tr>\n",
       "      <th>0</th>\n",
       "      <td>paro NEAR nacional</td>\n",
       "      <td>\"fernando ruiz\"</td>\n",
       "      <td>desinfroma*</td>\n",
       "      <td>sarmiento NEAR angulo</td>\n",
       "      <td>\"wilson ruiz\"</td>\n",
       "    </tr>\n",
       "    <tr>\n",
       "      <th>1</th>\n",
       "      <td>soscolombia</td>\n",
       "      <td>ministro NEAR ruiz</td>\n",
       "      <td>fakenews</td>\n",
       "      <td>hospital NEAR cancerol?gico</td>\n",
       "      <td>\"ministro de justicia\"</td>\n",
       "    </tr>\n",
       "    <tr>\n",
       "      <th>2</th>\n",
       "      <td>protestas NEAR colombia</td>\n",
       "      <td>ministro NEAR salud</td>\n",
       "      <td>falso</td>\n",
       "      <td>r?g?men* NEAR subsidiado</td>\n",
       "      <td>paraguay</td>\n",
       "    </tr>\n",
       "    <tr>\n",
       "      <th>3</th>\n",
       "      <td>protesta*</td>\n",
       "      <td>comisi?n NEAR s?ptima</td>\n",
       "      <td>fals*</td>\n",
       "      <td>r?g?men* NEAR especial</td>\n",
       "      <td>\"wilson ruíz\"</td>\n",
       "    </tr>\n",
       "    <tr>\n",
       "      <th>4</th>\n",
       "      <td>paro</td>\n",
       "      <td>trabajador* NEAR salud</td>\n",
       "      <td>mentira*</td>\n",
       "      <td>seguro NEAR m?dico</td>\n",
       "      <td>NaN</td>\n",
       "    </tr>\n",
       "    <tr>\n",
       "      <th>5</th>\n",
       "      <td>bloqueo*</td>\n",
       "      <td>paciente* NEAR enfermo</td>\n",
       "      <td>engaño*</td>\n",
       "      <td>r?g?men* NEAR excepcional</td>\n",
       "      <td>NaN</td>\n",
       "    </tr>\n",
       "    <tr>\n",
       "      <th>6</th>\n",
       "      <td>manifestaciones NEAR colombia</td>\n",
       "      <td>comisi?n NEAR s?ptima</td>\n",
       "      <td>mentir*</td>\n",
       "      <td>modelo NEAR usa</td>\n",
       "      <td>NaN</td>\n",
       "    </tr>\n",
       "    <tr>\n",
       "      <th>7</th>\n",
       "      <td>manifesta*</td>\n",
       "      <td>paciente* NEAR enfermo</td>\n",
       "      <td>NaN</td>\n",
       "      <td>salud NEAR usa</td>\n",
       "      <td>NaN</td>\n",
       "    </tr>\n",
       "    <tr>\n",
       "      <th>8</th>\n",
       "      <td>movilizaci?n</td>\n",
       "      <td>NaN</td>\n",
       "      <td>NaN</td>\n",
       "      <td>salud NEAR estados</td>\n",
       "      <td>NaN</td>\n",
       "    </tr>\n",
       "    <tr>\n",
       "      <th>9</th>\n",
       "      <td>moviliza* NEAR social</td>\n",
       "      <td>NaN</td>\n",
       "      <td>NaN</td>\n",
       "      <td>salud NEAR norteamerican*</td>\n",
       "      <td>NaN</td>\n",
       "    </tr>\n",
       "    <tr>\n",
       "      <th>10</th>\n",
       "      <td>estallido NEAR social</td>\n",
       "      <td>NaN</td>\n",
       "      <td>NaN</td>\n",
       "      <td>salud NEAR gring?</td>\n",
       "      <td>NaN</td>\n",
       "    </tr>\n",
       "    <tr>\n",
       "      <th>11</th>\n",
       "      <td>sos NEAR colombia</td>\n",
       "      <td>NaN</td>\n",
       "      <td>NaN</td>\n",
       "      <td>NaN</td>\n",
       "      <td>NaN</td>\n",
       "    </tr>\n",
       "    <tr>\n",
       "      <th>12</th>\n",
       "      <td>tributaria NEAR salud</td>\n",
       "      <td>NaN</td>\n",
       "      <td>NaN</td>\n",
       "      <td>eps NEAR fortalec*</td>\n",
       "      <td>NaN</td>\n",
       "    </tr>\n",
       "    <tr>\n",
       "      <th>13</th>\n",
       "      <td>NaN</td>\n",
       "      <td>NaN</td>\n",
       "      <td>NaN</td>\n",
       "      <td>multinacional* NEAR control*</td>\n",
       "      <td>NaN</td>\n",
       "    </tr>\n",
       "    <tr>\n",
       "      <th>14</th>\n",
       "      <td>NaN</td>\n",
       "      <td>NaN</td>\n",
       "      <td>NaN</td>\n",
       "      <td>autonom?a NEAR universitaria</td>\n",
       "      <td>NaN</td>\n",
       "    </tr>\n",
       "  </tbody>\n",
       "</table>\n",
       "</div>"
      ],
      "text/plain": [
       "             Filtro sobre el paro  \\\n",
       "0              paro NEAR nacional   \n",
       "1                     soscolombia   \n",
       "2         protestas NEAR colombia   \n",
       "3                       protesta*   \n",
       "4                            paro   \n",
       "5                        bloqueo*   \n",
       "6   manifestaciones NEAR colombia   \n",
       "7                      manifesta*   \n",
       "8                    movilizaci?n   \n",
       "9           moviliza* NEAR social   \n",
       "10          estallido NEAR social   \n",
       "11              sos NEAR colombia   \n",
       "12          tributaria NEAR salud   \n",
       "13                            NaN   \n",
       "14                            NaN   \n",
       "\n",
       "   (Filtro de actores OR Filtro de reforma a la salud OR Filtro de instituciones)  \\\n",
       "0                                     \"fernando ruiz\"                               \n",
       "1                                  ministro NEAR ruiz                               \n",
       "2                                 ministro NEAR salud                               \n",
       "3                               comisi?n NEAR s?ptima                               \n",
       "4                              trabajador* NEAR salud                               \n",
       "5                              paciente* NEAR enfermo                               \n",
       "6                               comisi?n NEAR s?ptima                               \n",
       "7                              paciente* NEAR enfermo                               \n",
       "8                                                 NaN                               \n",
       "9                                                 NaN                               \n",
       "10                                                NaN                               \n",
       "11                                                NaN                               \n",
       "12                                                NaN                               \n",
       "13                                                NaN                               \n",
       "14                                                NaN                               \n",
       "\n",
       "   Filtro por términos en tweets falsos Filtro por palabras de desinformación  \\\n",
       "0                           desinfroma*                 sarmiento NEAR angulo   \n",
       "1                              fakenews           hospital NEAR cancerol?gico   \n",
       "2                                 falso              r?g?men* NEAR subsidiado   \n",
       "3                                 fals*                r?g?men* NEAR especial   \n",
       "4                              mentira*                    seguro NEAR m?dico   \n",
       "5                               engaño*             r?g?men* NEAR excepcional   \n",
       "6                               mentir*                       modelo NEAR usa   \n",
       "7                                   NaN                        salud NEAR usa   \n",
       "8                                   NaN                    salud NEAR estados   \n",
       "9                                   NaN             salud NEAR norteamerican*   \n",
       "10                                  NaN                     salud NEAR gring?   \n",
       "11                                  NaN                                   NaN   \n",
       "12                                  NaN                    eps NEAR fortalec*   \n",
       "13                                  NaN          multinacional* NEAR control*   \n",
       "14                                  NaN          autonom?a NEAR universitaria   \n",
       "\n",
       "                       NOT  \n",
       "0            \"wilson ruiz\"  \n",
       "1   \"ministro de justicia\"  \n",
       "2                 paraguay  \n",
       "3            \"wilson ruíz\"  \n",
       "4                      NaN  \n",
       "5                      NaN  \n",
       "6                      NaN  \n",
       "7                      NaN  \n",
       "8                      NaN  \n",
       "9                      NaN  \n",
       "10                     NaN  \n",
       "11                     NaN  \n",
       "12                     NaN  \n",
       "13                     NaN  \n",
       "14                     NaN  "
      ]
     },
     "execution_count": 32,
     "metadata": {},
     "output_type": "execute_result"
    }
   ],
   "source": [
    "q.dictionary.head(15)"
   ]
  },
  {
   "cell_type": "code",
   "execution_count": 10,
   "metadata": {
    "ExecuteTime": {
     "end_time": "2021-07-22T21:13:08.913103Z",
     "start_time": "2021-07-22T21:13:08.905649Z"
    }
   },
   "outputs": [
    {
     "name": "stdout",
     "output_type": "stream",
     "text": [
      "Paro AND Actores AND Reforma a la salud AND Instituciones AND Filtro por términos en tweets falsos AND Filtro por palabras de desinformación AND NOT\n"
     ]
    }
   ],
   "source": [
    "q.get_logic_expression()"
   ]
  },
  {
   "cell_type": "code",
   "execution_count": 34,
   "metadata": {
    "ExecuteTime": {
     "end_time": "2021-07-22T19:57:19.275317Z",
     "start_time": "2021-07-22T19:57:19.264931Z"
    }
   },
   "outputs": [
    {
     "data": {
      "text/plain": [
       "'(((paro NEAR nacional) OR (soscolombia) OR (protestas NEAR colombia) OR (protesta*) OR (paro) OR (bloqueo*) OR (manifestaciones NEAR colombia) OR (manifesta*) OR (movilizaci?n) OR (moviliza* NEAR social) OR (estallido NEAR social) OR (sos NEAR colombia) OR (tributaria NEAR salud)) AND (\"fernando ruiz\" OR (ministro NEAR ruiz) OR (ministro NEAR salud) OR (comisi?n NEAR s?ptima) OR (trabajador* NEAR salud) OR (paciente* NEAR enfermo) OR (comisi?n NEAR s?ptima) OR (paciente* NEAR enfermo) OR (salud NEAR p?blica) OR (salud NEAR derecho*) OR (salud NEAR gratuita) OR (atenci?n NEAR salud) OR (reforma NEAR salud) OR (privatiza* NEAR salud) OR (SGSSS) OR \"Sistema General de Seguridad Social en Salud\" OR (sistema NEAR salud) OR (cartera NEAR salud) OR (ley NEAR 010) OR (ley NEAR salud) OR \"proyecto de ley 010\" OR (asegurador* NEAR intermediarias) OR (asegurador* NEAR salud) OR (salud NEAR usa) OR (salud NEAR estados) OR (salud NEAR norteamerican*) OR (salud NEAR gring?) OR (salud NEAR municip*) OR (ley NEAR salud) OR (ente NEAR salud) OR (hospital* NEAR reforma) OR (federaci?n NEAR m?dica) OR (ministerio NEAR salud) OR (minsalud) OR (prestado* NEAR servicio*) OR (prestado* NEAR salud) OR (servicio* NEAR salud) OR (eps) OR (ips) OR (superintendencia NEAR salud) OR (hospital* NEAR p?blic*)) AND ((desinfroma*) OR (fakenews) OR (falso) OR (fals*) OR (mentira*) OR (engaño*) OR (mentir*)) AND ((sarmiento NEAR angulo) OR (hospital NEAR cancerol?gico) OR (r?g?men* NEAR subsidiado) OR (r?g?men* NEAR especial) OR (seguro NEAR m?dico) OR (r?g?men* NEAR excepcional) OR (modelo NEAR usa) OR (salud NEAR usa) OR (salud NEAR estados) OR (salud NEAR norteamerican*) OR (salud NEAR gring?) OR (eps NEAR fortalec*) OR (multinacional* NEAR control*) OR (autonom?a NEAR universitaria) OR (multinacional* NEAR control*) OR (autonom?a NEAR universitaria) OR (facultad* NEAR medicina)) NOT (\"wilson ruiz\" OR \"ministro de justicia\" OR (paraguay) OR \"wilson ruíz\")) AND metaData.source.socialOriginType:“twitter”'"
      ]
     },
     "execution_count": 34,
     "metadata": {},
     "output_type": "execute_result"
    }
   ],
   "source": [
    "q.get_query()"
   ]
  },
  {
   "cell_type": "code",
   "execution_count": null,
   "metadata": {},
   "outputs": [],
   "source": []
  }
 ],
 "metadata": {
  "kernelspec": {
   "display_name": "Python 3",
   "language": "python",
   "name": "python3"
  },
  "language_info": {
   "codemirror_mode": {
    "name": "ipython",
    "version": 3
   },
   "file_extension": ".py",
   "mimetype": "text/x-python",
   "name": "python",
   "nbconvert_exporter": "python",
   "pygments_lexer": "ipython3",
   "version": "3.7.6"
  }
 },
 "nbformat": 4,
 "nbformat_minor": 4
}
