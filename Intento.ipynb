{
 "cells": [
  {
   "cell_type": "code",
   "execution_count": 1,
   "metadata": {
    "ExecuteTime": {
     "end_time": "2021-07-22T20:19:32.063637Z",
     "start_time": "2021-07-22T20:19:30.903477Z"
    }
   },
   "outputs": [],
   "source": [
    "from spreadsheet import SpreadSheet\n",
    "from query import Query"
   ]
  },
  {
   "cell_type": "code",
   "execution_count": 3,
   "metadata": {
    "ExecuteTime": {
     "end_time": "2021-07-22T20:19:50.318537Z",
     "start_time": "2021-07-22T20:19:50.307866Z"
    }
   },
   "outputs": [],
   "source": [
    "SCOPES = ['https://www.googleapis.com/auth/spreadsheets',\n",
    "         'https://www.googleapis.com/auth/drive',\n",
    "         'https://www.googleapis.com/auth/drive.file']\n",
    "SERVICE_ACCOUNT_FILE = 'keys.json'"
   ]
  },
  {
   "cell_type": "code",
   "execution_count": 4,
   "metadata": {
    "ExecuteTime": {
     "end_time": "2021-07-22T20:19:52.699395Z",
     "start_time": "2021-07-22T20:19:50.711530Z"
    }
   },
   "outputs": [],
   "source": [
    "s = SpreadSheet(SCOPES, SERVICE_ACCOUNT_FILE, 'Diccionario RS')\n",
    "df = s.dict_to_df()"
   ]
  },
  {
   "cell_type": "code",
   "execution_count": 7,
   "metadata": {
    "ExecuteTime": {
     "end_time": "2021-07-22T20:26:29.062496Z",
     "start_time": "2021-07-22T20:26:29.052612Z"
    }
   },
   "outputs": [
    {
     "data": {
      "text/plain": [
       "array(['Filtro sobre el paro', 'Filtro de actores',\n",
       "       'Filtro de reforma a la salud', 'Filtro de instituciones',\n",
       "       'Filtro por términos en tweets falsos',\n",
       "       'Filtro por palabras de desinformación', 'NOT'], dtype=object)"
      ]
     },
     "execution_count": 7,
     "metadata": {},
     "output_type": "execute_result"
    }
   ],
   "source": [
    "df.columns.values"
   ]
  },
  {
   "cell_type": "code",
   "execution_count": 5,
   "metadata": {
    "ExecuteTime": {
     "end_time": "2021-07-22T20:20:06.206332Z",
     "start_time": "2021-07-22T20:20:06.181934Z"
    }
   },
   "outputs": [],
   "source": [
    "q = Query(df)"
   ]
  },
  {
   "cell_type": "code",
   "execution_count": null,
   "metadata": {},
   "outputs": [],
   "source": []
  }
 ],
 "metadata": {
  "kernelspec": {
   "display_name": "Python 3",
   "language": "python",
   "name": "python3"
  },
  "language_info": {
   "codemirror_mode": {
    "name": "ipython",
    "version": 3
   },
   "file_extension": ".py",
   "mimetype": "text/x-python",
   "name": "python",
   "nbconvert_exporter": "python",
   "pygments_lexer": "ipython3",
   "version": "3.7.6"
  }
 },
 "nbformat": 4,
 "nbformat_minor": 4
}
